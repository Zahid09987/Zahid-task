{
  "nbformat": 4,
  "nbformat_minor": 0,
  "metadata": {
    "colab": {
      "provenance": []
    },
    "kernelspec": {
      "name": "python3",
      "display_name": "Python 3"
    },
    "language_info": {
      "name": "python"
    }
  },
  "cells": [
    {
      "cell_type": "markdown",
      "source": [
        "# **Cari nilai KPK dari 3 dan 4**"
      ],
      "metadata": {
        "id": "Qy0flpCKmocf"
      }
    },
    {
      "cell_type": "code",
      "source": [
        "def fpb(a, b):\n",
        "    while b != 0:\n",
        "        a, b = b, a % b\n",
        "    return a\n",
        "\n",
        "def kpk(a, b):\n",
        "    return (a * b) // fpb(a, b)\n",
        "\n",
        "# Main Program\n",
        "a = 3\n",
        "b = 4\n",
        "result = kpk(a, b)\n",
        "print(f\"KPK dari {a} dan {b} adalah {result}\")"
      ],
      "metadata": {
        "colab": {
          "base_uri": "https://localhost:8080/"
        },
        "id": "_e4IL63nat4Z",
        "outputId": "7f3747b8-dc20-49c6-f1de-53fa1e2e9902"
      },
      "execution_count": 2,
      "outputs": [
        {
          "output_type": "stream",
          "name": "stdout",
          "text": [
            "KPK dari 3 dan 4 adalah 12\n"
          ]
        }
      ]
    },
    {
      "cell_type": "markdown",
      "source": [
        "# **Fungsi untuk menukar posisi dua variabel x dan y, dengan kasus:**\n",
        "Ada 2 buah: manggis dan pisang. Manggis di piring 1, Pisang di piring 2. Piring 3 kosong.\n"
      ],
      "metadata": {
        "id": "ZYCREMQvoAIr"
      }
    },
    {
      "cell_type": "code",
      "source": [
        "# Fungsi untuk menukar posisi variabel\n",
        "def tukar_posisi(x, y):\n",
        "    temp = x  # Pindahkan manggis dari piring 1 ke piring 3\n",
        "    x = y     # Pindahkan pisang dari piring 2 ke piring 1\n",
        "    y = temp  # Pindahkan manggis dari piring 3 ke piring 2\n",
        "    return x, y\n",
        "\n",
        "# Main Program\n",
        "x = \"Manggis\"\n",
        "y = \"Pisang\"\n",
        "print(f\"Sebelum penukaran: Piring 1: {x}, Piring 2: {y}\")\n",
        "x, y = tukar_posisi(x, y)\n",
        "print(f\"Setelah penukaran: Piring 1: {x}, Piring 2: {y}\")"
      ],
      "metadata": {
        "colab": {
          "base_uri": "https://localhost:8080/"
        },
        "id": "9BI9Sh8rbfjj",
        "outputId": "1869a13b-d129-46d0-8f91-e995906cd833"
      },
      "execution_count": 3,
      "outputs": [
        {
          "output_type": "stream",
          "name": "stdout",
          "text": [
            "Sebelum penukaran: Piring 1: Manggis, Piring 2: Pisang\n",
            "Setelah penukaran: Piring 1: Pisang, Piring 2: Manggis\n"
          ]
        }
      ]
    },
    {
      "cell_type": "markdown",
      "source": [
        "# **Diketahui sebuah segitiga memiliki ukuran sebagai berikut:**\n",
        "Alas 25 dan Tinggi 30.\n",
        "Hitung luas dari segitiga tersebut."
      ],
      "metadata": {
        "id": "8nuMpxrhw-oN"
      }
    },
    {
      "cell_type": "code",
      "source": [
        "# Fungsi untuk menghitung luas segitiga\n",
        "def hitung_luas_segitiga(alas, tinggi):\n",
        "    luas = 0.5 * alas * tinggi\n",
        "    return luas\n",
        "\n",
        "# Main Program\n",
        "alas = 25\n",
        "tinggi = 30\n",
        "luas = hitung_luas_segitiga(alas, tinggi)\n",
        "print(f\"Luas segitiga dengan alas {alas} dan tinggi {tinggi} adalah {luas}\")"
      ],
      "metadata": {
        "colab": {
          "base_uri": "https://localhost:8080/"
        },
        "id": "P2JI1i7hxXVS",
        "outputId": "a111abc3-3946-41fa-c793-0e588cc5de5c"
      },
      "execution_count": 4,
      "outputs": [
        {
          "output_type": "stream",
          "name": "stdout",
          "text": [
            "Luas segitiga dengan alas 25 dan tinggi 30 adalah 375.0\n"
          ]
        }
      ]
    },
    {
      "cell_type": "markdown",
      "source": [
        "# **Luas Jajar Genjang**"
      ],
      "metadata": {
        "id": "KJ9vALV9zqNH"
      }
    },
    {
      "cell_type": "code",
      "source": [
        "# Fungsi untuk menghitung luas jajar genjang\n",
        "def hitung_luas_jajar_genjang(panjang, tinggi):\n",
        "    luas = panjang * tinggi\n",
        "    return luas\n",
        "\n",
        "# Main Program\n",
        "panjang = 5\n",
        "tinggi = 3\n",
        "luas = hitung_luas_jajar_genjang(panjang, tinggi)\n",
        "print(f\"Luas jajar genjang dengan panjang {panjang} dan tinggi {tinggi} adalah {luas}\")"
      ],
      "metadata": {
        "colab": {
          "base_uri": "https://localhost:8080/"
        },
        "id": "I24b-uaAzwtq",
        "outputId": "2fdf2b76-7f49-4e56-85e8-2e8d08d192c4"
      },
      "execution_count": 5,
      "outputs": [
        {
          "output_type": "stream",
          "name": "stdout",
          "text": [
            "Luas jajar genjang dengan panjang 5 dan tinggi 3 adalah 15\n"
          ]
        }
      ]
    },
    {
      "cell_type": "markdown",
      "source": [
        "# **Volume Tabung**"
      ],
      "metadata": {
        "id": "bKHRlSwu2Um8"
      }
    },
    {
      "cell_type": "code",
      "source": [
        "# Fungsi untuk menghitung volume tabung\n",
        "def hitung_volume_tabung(jari_jari, tinggi):\n",
        "    pi = 3.1416\n",
        "    volume = pi * (jari_jari ** 2) * tinggi\n",
        "    return volume\n",
        "\n",
        "# Main Program\n",
        "jari_jari = 3\n",
        "tinggi = 5\n",
        "volume = hitung_volume_tabung(jari_jari, tinggi)\n",
        "print(f\"Volume tabung dengan jari-jari {jari_jari} dan tinggi {tinggi} adalah {volume}\")"
      ],
      "metadata": {
        "colab": {
          "base_uri": "https://localhost:8080/"
        },
        "id": "HlfustZK2XGS",
        "outputId": "2e1ebaa9-4b34-4191-d378-62b66a4308c1"
      },
      "execution_count": 6,
      "outputs": [
        {
          "output_type": "stream",
          "name": "stdout",
          "text": [
            "Volume tabung dengan jari-jari 3 dan tinggi 5 adalah 141.372\n"
          ]
        }
      ]
    },
    {
      "cell_type": "markdown",
      "source": [
        "# **Volume Kerucut**"
      ],
      "metadata": {
        "id": "7NV0d-Fv4GXk"
      }
    },
    {
      "cell_type": "code",
      "source": [
        "# Fungsi untuk menghitung volume kerucut\n",
        "def hitung_volume_kerucut(diameter, tinggi):\n",
        "    pi = 3.1416\n",
        "    jari_jari = diameter / 2\n",
        "    volume = (1/3) * pi * (jari_jari ** 2) * tinggi\n",
        "    return volume\n",
        "\n",
        "# Main Program\n",
        "diameter = 5\n",
        "tinggi = 4\n",
        "volume = hitung_volume_kerucut(diameter, tinggi)\n",
        "print(f\"Volume kerucut dengan diameter {diameter} dan tinggi {tinggi} adalah {volume}\")"
      ],
      "metadata": {
        "colab": {
          "base_uri": "https://localhost:8080/"
        },
        "id": "vZlNBXqo4F8_",
        "outputId": "b905dddf-0d84-4cc0-d9c8-43af11acbca1"
      },
      "execution_count": 7,
      "outputs": [
        {
          "output_type": "stream",
          "name": "stdout",
          "text": [
            "Volume kerucut dengan diameter 5 dan tinggi 4 adalah 26.179999999999996\n"
          ]
        }
      ]
    }
  ]
}